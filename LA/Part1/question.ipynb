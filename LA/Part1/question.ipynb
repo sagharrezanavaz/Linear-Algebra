{
 "cells": [
  {
   "cell_type": "markdown",
   "id": "c6ca75d7-18f0-46c1-b372-44a1a169b09e",
   "metadata": {},
   "source": [
    "<br>\n",
    "<font>\n",
    "<div dir=\"ltr\" align=\"center\">\n",
    "    <img src=\"https://cdn.freebiesupply.com/logos/large/2x/sharif-logo-png-transparent.png\" width=\"150\" height=\"150\">\n",
    "    <br>\n",
    "    <font color=\"#E74C3C\" size=\"7\" style=\"font-family:Arial, sans-serif;\">\n",
    "        Linear Algebra <br>\n",
    "    </font>\n",
    "    <font color=\"#2980B9\" size=\"5\" style=\"font-family:Arial, sans-serif;\">\n",
    "        DR Rabiee - DR Ramezani <br>\n",
    "    </font>\n",
    "    <font color=\"#2980B9\" size=\"5\" style=\"font-family:Arial, sans-serif;\">\n",
    "        Computer Engineering Department <br>\n",
    "    </font>\n",
    "    <font color=\"#1ABC9C\" size=\"5\" style=\"font-family:Arial, sans-serif;\">\n",
    "        Fall 2024 <br>\n",
    "    </font>\n",
    "    <font color=\"#16A085\" size=\"5\" style=\"font-family:Arial, sans-serif;\">\n",
    "        Practical Assignment 0 <br>\n",
    "    </font>\n",
    "    <font color=\"#7F8C8D\" size=\"4\" style=\"font-family:Arial, sans-serif;\">\n",
    "        Ali Bakhtiari - Armin Khosravi - Ali Najar\n",
    "    </font>\n",
    "</div>\n"
   ]
  },
  {
   "attachments": {},
   "cell_type": "markdown",
   "id": "acc137fd",
   "metadata": {},
   "source": [
    "<h1 align=center style=\"line-height:200%;font-family:vazir;color:#0099cc\">\n",
    "<font face=\"vazir\" color=\"#0099cc\">\n",
    "گل‌های زنبق\n",
    "</font>\n",
    "</h1>\n",
    "\n",
    "<p dir=rtl style=\"direction: rtl;text-align: justify;line-height:200%;font-family:vazir;font-size:medium\">\n",
    "<font face=\"vazir\" size=3>\n",
    "در این تمرین، قصد داریم یک الگوریتم طبقه‌بندی داده‌ها را پیاده‌سازی کنیم. هدف از این تمرین، مرور مفاهیمی همچون محاسبات برداری، استفاده از توابع تجمیعی و عمومی کتابخانه نامپای، و بهره‌گیری از آرایه‌ها برای نمایه‌سازی است. ابتدا الگوریتم را گام به گام پیاده‌سازی کنید و در نهایت متوجه خواهید شد که این الگوریتم به یکی از روش‌های رایج یادگیری ماشین نزدیک است.\n",
    "</font>\n",
    "</p>"
   ]
  },
  {
   "cell_type": "code",
   "id": "2b198b84",
   "metadata": {
    "ExecuteTime": {
     "end_time": "2024-11-04T13:06:14.069697Z",
     "start_time": "2024-11-04T13:06:14.066434Z"
    }
   },
   "source": [
    "import numpy as np"
   ],
   "outputs": [],
   "execution_count": 26
  },
  {
   "attachments": {},
   "cell_type": "markdown",
   "id": "99cd4e8f",
   "metadata": {},
   "source": [
    "<h2 align=right style=\"line-height:200%;font-family:vazir;color:#0099cc\">\n",
    "<font face=\"vazir\" color=\"#0099cc\">\n",
    "<div style=\"direction:rtl\"> Right-to-left text \n",
    "\n",
    "مجموعه‌داده\n",
    "</font>\n",
    "</h2>\n",
    "\n",
    "<p dir=rtl style=\"direction: rtl;text-align: justify;line-height:200%;font-family:vazir;font-size:medium\">\n",
    "<font face=\"vazir\" size=3>\n",
    "در این تمرین یک مجموعه‌داده‌ی معروف به نام <a href=\"https://en.wikipedia.org/wiki/Iris_flower_data_set\" target=\"_blank\" style=\"color:#0099cc\">Iris Flower</a> (گل‌های زنبق) در اختیارتان قرار گرفته که شامل مشخصات ۱۵۰ گل زنبق است. هرکدام از این گل‌ها به یکی از سه نوع زنبق نوک‌زبر (Iris setosa)، زنبق رنگارنگ (Iris versicolor) و زنبق ویرجینیا (Iris virginica) تعلق دارد. همچنین مشخصات هر گل شامل طول و عرض کاسبرگ (sepal) و گلبرگ (petal) است. با استفاده از این مشخصات، می‌توانیم هر گل را به صورت یک نقطه در فضایی چهاربعدی تصور کنیم که این چهار کمیت، مختصات آن نقطه را تعیین می‌کنند. \n",
    "</font>\n",
    "</p>\n",
    "\n",
    "\n",
    "<center>\n",
    "<div style=\"max-width: 900px\">\n",
    "<img src=\"img/iris_types.jpg\">\n",
    "</div>\n",
    "</center>\n",
    "\n",
    "<p dir=rtl style=\"direction: rtl;text-align: justify;line-height:200%;font-family:vazir;font-size:medium\">\n",
    "<font face=\"vazir\" size=3>\n",
    "مشخصات ۱۲۰ گل زنبق در فایلی به‌نام <code>irises.npy</code> ذخیره شده است. هنگامی‌که این فایل خوانده شود، یک آرایه‌ی ۱۲۰ در ۴ همانند شکل زیر ساخته می‌شود که هر سطر آن، مشخصات یک گل (طول کاسبرگ، عرض کاسبرگ، طول گلبرگ و عرض گلبرگ به سانتی‌متر) را نشان می‌دهد.\n",
    "</font>\n",
    "</p>\n",
    "\n",
    "<center>\n",
    "<div style=\"max-width: 700px\">\n",
    "<img src=\"img/fig_irises.png\">\n",
    "</div>\n",
    "</center></div>\n"
   ]
  },
  {
   "cell_type": "code",
   "id": "26d1efb5",
   "metadata": {
    "ExecuteTime": {
     "end_time": "2024-11-04T12:23:06.094645Z",
     "start_time": "2024-11-04T12:23:05.619207Z"
    }
   },
   "source": [
    "irises = np.load('irises.npy')\n",
    "print(irises.shape)\n"
   ],
   "outputs": [
    {
     "name": "stdout",
     "output_type": "stream",
     "text": [
      "(120, 4)\n"
     ]
    }
   ],
   "execution_count": 3
  },
  {
   "attachments": {},
   "cell_type": "markdown",
   "id": "711be10b",
   "metadata": {},
   "source": [
    "\n",
    "<p dir=rtl style=\"direction: rtl;text-align: justify;line-height:200%;font-family:vazir;font-size:medium\">\n",
    "<font face=\"vazir\" size=3>\n",
    "از طرفی نوع این گل‌ها (نوک‌زبر، رنگارنگ یا ویرجینیا) به‌صورت عددی در فایل دیگری به نام <code>types.npy</code> ذخیره شده است. مقادیر این آرایه به‌صورت <code>0</code>، <code>1</code> یا <code>2</code> است که به‌ترتیب بیان‌گر نوع زنبق نوک‌زبر، زنبق رنگارنگ و زنبق ویرجینیا هستند.\n",
    "</font>\n",
    "</p>"
   ]
  },
  {
   "cell_type": "code",
   "id": "f6c55d30",
   "metadata": {
    "ExecuteTime": {
     "end_time": "2024-11-04T12:23:08.335207Z",
     "start_time": "2024-11-04T12:23:08.296229Z"
    }
   },
   "source": [
    "types = np.load('types.npy')\n",
    "print(types.shape)"
   ],
   "outputs": [
    {
     "name": "stdout",
     "output_type": "stream",
     "text": [
      "(120,)\n"
     ]
    }
   ],
   "execution_count": 4
  },
  {
   "attachments": {},
   "cell_type": "markdown",
   "id": "3401f7ed",
   "metadata": {},
   "source": [
    "<p dir=rtl style=\"direction: rtl;text-align: justify;line-height:200%;font-family:vazir;font-size:medium\">\n",
    "<font face=\"vazir\" size=3>\n",
    "در یادگیری ماشین، داده‌ها به دو دسته اصلی تقسیم می‌شوند: <b style=\"color:#0099cc\">داده‌های آموزشی (train)</b> و <b style=\"color:#0099cc\">داده‌های آزمون (test)</b>.\n",
    "<br><br>\n",
    "داده‌های آموزشی شامل مجموعه‌ای از نمونه‌ها هستند که هر نمونه دارای دو بخش است: <b>ویژگی‌ها</b> و <b>برچسب</b>. ویژگی‌ها اطلاعاتی هستند که توصیف‌کننده هر نمونه‌اند. برای مثال، در مورد گل‌های زنبق، این ویژگی‌ها شامل اندازه‌های طول و عرض گلبرگ‌ها و کاسبرگ‌ها می‌شود. \n",
    "<br><br>\n",
    "از سوی دیگر، <b>برچسب</b> مشخص می‌کند که هر نمونه به کدام دسته تعلق دارد. در مثال گل‌های زنبق، برچسب‌ها می‌توانند نوع گل‌ها باشند (مثلاً «ستوزا»، «ویرجینیکا» یا «ورسیکالر»). هدف از یادگیری ماشین، آموزش الگوریتم برای پیدا کردن رابطه بین ویژگی‌ها و برچسب‌ها است تا بتواند در آینده برچسب‌های نمونه‌های جدید را پیش‌بینی کند.\n",
    "<br><br>\n",
    "زمانی که الگوریتم با داده‌های آموزشی آموزش دید، از <b>داده‌های آزمون</b> استفاده می‌شود تا عملکرد آن در پیش‌بینی نمونه‌های جدید ارزیابی شود. داده‌های آزمون شامل نمونه‌هایی هستند که ویژگی‌هایشان مشخص است، اما برچسب آن‌ها به مدل داده نمی‌شود. هدف الگوریتم این است که با استفاده از دانشی که از داده‌های آموزشی کسب کرده، برچسب‌های این نمونه‌ها را پیش‌بینی کند.\n",
    "<br><br>\n",
    "در این تمرین، وظیفه شما پیاده‌سازی الگوریتمی است که با دریافت ویژگی‌های مربوط به یک گل زنبق، نوع آن را پیش‌بینی کند. این پیش‌بینی بر اساس داده‌هایی انجام خواهد شد که برچسب‌های آن‌ها از قبل مشخص است و به آن‌ها <b style=\"color:#0099cc\">داده‌های آموزشی</b> می‌گوییم.\n",
    "<br><br>\n",
    "مشخصات ۳۰ گل زنبق دیگر که نوع آن‌ها نامشخص است و باید با الگوریتم شما پیش‌بینی شود، در فایلی با نام <code>new_irises.npz</code> ذخیره شده است. این فایل یک آرایه ۳۰ در ۴ را شامل می‌شود که هر سطر آن ویژگی‌های یک گل را نمایش می‌دهد. این نمونه‌ها را <b style=\"color:#0099cc\">داده‌های آزمون</b> می‌نامیم و هدف شما این است که نوع آن‌ها را با استفاده از داده‌های آموزشی پیش‌بینی کنید.\n",
    "</font>\n",
    "</p>\n",
    "\n",
    "<center>\n",
    "<div style=\"max-width: 700px\">\n",
    "<img src=\"img/fig_new_irises.png\">\n",
    "</div>\n",
    "</center>\n"
   ]
  },
  {
   "cell_type": "code",
   "id": "d72e445e",
   "metadata": {
    "ExecuteTime": {
     "end_time": "2024-11-04T12:23:13.553990Z",
     "start_time": "2024-11-04T12:23:13.519794Z"
    }
   },
   "source": [
    "new_irises = np.load('new_irises.npy')\n",
    "print(new_irises.shape)"
   ],
   "outputs": [
    {
     "name": "stdout",
     "output_type": "stream",
     "text": [
      "(30, 4)\n"
     ]
    }
   ],
   "execution_count": 5
  },
  {
   "attachments": {},
   "cell_type": "markdown",
   "id": "a2cffc36",
   "metadata": {},
   "source": [
    "<p dir=rtl style=\"direction: rtl;text-align: justify;line-height:200%;font-family:vazir;font-size:medium\">\n",
    "<font face=\"vazir\" size=3>\n",
    "تاکنون با موفقیت تمام فایل‌های مجموعه‌داده را خواندیم. اکنون تعداد نمونه‌های آموزشی را <code>n</code> و تعداد نمونه‌های آزمون را <code>m</code> بنامیم و در متغیرهایی به همین نام ذخیره کنیم.\n",
    "</font>\n",
    "</p>"
   ]
  },
  {
   "cell_type": "code",
   "id": "524e1890",
   "metadata": {
    "ExecuteTime": {
     "end_time": "2024-11-04T12:23:17.528518Z",
     "start_time": "2024-11-04T12:23:17.524003Z"
    }
   },
   "source": [
    "n, m = len(irises), len(new_irises)\n",
    "print(\"Number of training samples (n):\", n)\n",
    "print(\"Number of test samples (m):\", m)"
   ],
   "outputs": [
    {
     "name": "stdout",
     "output_type": "stream",
     "text": [
      "Number of training samples (n): 120\n",
      "Number of test samples (m): 30\n"
     ]
    }
   ],
   "execution_count": 6
  },
  {
   "attachments": {},
   "cell_type": "markdown",
   "id": "cf4c3d98",
   "metadata": {},
   "source": [
    "<h2 dir=rtl align=right style=\"line-height:200%;font-family:vazir;color:#0099cc\">\n",
    "<font face=\"vazir\" color=\"#0099cc\">\n",
    "تشخیص نوع گل با مقایسه با نمونه‌های دیگر\n",
    "</font>\n",
    "</h2>\n",
    "\n",
    "<p dir=rtl style=\"direction: rtl;text-align: justify;line-height:200%;font-family:vazir;font-size:medium\">\n",
    "<font face=\"vazir\" size=3>\n",
    "فرض کنید مشخصات یک گل زنبق جدید به شما داده شده و قصد دارید نوع آن را تشخیص دهید. ممکن است اولین ایده‌ای که به ذهن‌تان خطور کند این باشد که شباهت آن را با گل‌هایی که نوع‌شان از قبل مشخص است مقایسه کنید. سپس براساس بیشترین شباهت، نوع گل جدید را پیش‌بینی کنید. حال تصور کنید ۳ گل را که بیشترین شباهت به گل جدید دارند پیدا کرده‌اید. اگر از این ۳ گل، ۲ گل از نوع «ویرجینیا» باشند و ۱ گل از نوع «نوک‌زبر»، منطقی است که بر اساس رای اکثریت، نتیجه‌گیری کنیم که احتمالاً گل جدید هم از نوع «ویرجینیا» است.\n",
    "<br><br>\n",
    "این روش ساده و شهودی به شما کمک می‌کند نوع گل را پیش‌بینی کنید. البته به‌جای بررسی شباهت، می‌توانیم فاصله بین ویژگی‌های گل جدید و سایر گل‌های موجود را محاسبه کنیم تا نمونه‌هایی که به گل جدید نزدیک‌تر هستند را بیابیم. روش کلی به این صورت است:\n",
    "\n",
    "<ol dir=rtl>\n",
    "<li>ابتدا فاصله بین مشخصات گل جدید از   (که قصد داریم نوع آن را پیش‌بینی کنیم) و تمامی نمونه‌های موجود از  (که نوع آن‌ها را می‌دانیم) را محاسبه می‌کنیم و نمونه آزمون را با نمونه‌های آموزشی می‌سنجیم.</li>\n",
    "<li>سپس <code>k</code> نزدیک‌ترین نمونه به گل جدید را که کمترین فاصله را با آن دارند، پیدا می‌کنیم. عدد <code>k</code> یک هایپرپارامتر است که تعداد نزدیک‌ترین همسایه‌ها را تعیین می‌کند و به ما کمک می‌کند تا بدانیم که در پیش‌بینی باید به چند نمونه نزدیک توجه کنیم.</li>\n",
    "<li>حال بررسی می‌کنیم که این <code>k</code> نمونه‌های نزدیک‌تر بیشتر از کدام نوع بوده‌اند و همان نوع را به‌عنوان پیش‌بینی خود اعلام می‌کنیم.</li>\n",
    "</ol>\n",
    "<br>\n",
    "\n",
    "</font>\n",
    "</p>\n",
    "\n",
    "\n",
    "<p dir=rtl style=\"direction: rtl;text-align: justify;line-height:200%;font-family:vazir;font-size:medium\">\n",
    "<font face=\"vazir\" size=3>\n",
    "    <b> توجه: </b>\n",
    "هایپرپارامترها مقادیر تنظیمی هستند که قبل از آموزش مدل باید تعیین شوند و تأثیر زیادی بر عملکرد مدل دارند. انتخاب مناسب هایپرپارامترها می‌تواند به بهبود دقت پیش‌بینی کمک کند.</font>\n",
    "</p>\n",
    "\n",
    "<p dir=rtl style=\"direction: rtl;text-align: justify;line-height:200%;font-family:vazir;font-size:medium\">\n",
    "<font face=\"vazir\" size=3>\n",
    "اکنون می‌خواهیم این روش را به کمک کتابخانه نامپای گام به گام پیاده‌سازی کنیم.\n",
    "</font>\n",
    "</p>\n"
   ]
  },
  {
   "attachments": {},
   "cell_type": "markdown",
   "id": "1f317485",
   "metadata": {},
   "source": [
    "<h2 dir=rtl align=right style=\"line-height:200%;font-family:vazir;color:#0099cc\">\n",
    "<font face=\"vazir\" color=\"#0099cc\">\n",
    "قسمت ۱: محاسبه‌ی فاصله‌ها\n",
    "</font>\n",
    "</h2>\n",
    "\n",
    "<p dir=rtl style=\"direction: rtl;text-align: justify;line-height:200%;font-family:vazir;font-size:medium\">\n",
    "<font face=\"vazir\" size=3>\n",
    "در ابتدا قصد داریم تابعی بنویسیم که فاصله‌ی هرکدام از نمونه‌ها/ردیف‌های یک آرایه همچون <code>new_points</code> را با هرکدام از نمونه‌ها/ردیف‌های آرایه‌ی دیگر همچون <code>points</code> محاسبه کند. به‌عنوان مثال در این تمرین اگر ما ۱۲۰ نمونه‌ی آموزشی و ۳۰ نمونه‌ی آزمون داریم، باید فاصله‌ی هرکدام از نمونه‌های آزمون با هرکدام از نمونه‌های آموزشی را محاسبه کنیم، بنابراین خروجی ما دارای ابعاد ۳۰ در ۱۲۰ خواهد بود. به‌عنوان مثال ردیف اول این ماتریس که در شکل سمت راست زیر نشان داده شده،‌ فاصله‌ی نمونه‌ی آزمون اول را با هرکدام از نمونه‌های آموزشی شامل می‌شود.\n",
    "</font>\n",
    "</p>\n",
    "\n",
    "<center>\n",
    "<div style=\"max-width: 1000px\">\n",
    "<img src=\"img/fig.png\">\n",
    "</div>\n",
    "</center>\n",
    "\n",
    "<p dir=rtl style=\"direction: rtl;text-align: justify;line-height:200%;font-family:vazir;font-size:medium\">\n",
    "<font face=\"vazir\" size=3>\n",
    "برای محاسبه‌ی فاصله‌ی بین دو نقطه‌ی <code>p</code> و <code>q</code> با <code>f</code> ویژگی، از رابطه‌ی زیر استفاده خواهیم کرد:\n",
    "</font>\n",
    "</p>\n",
    "\n",
    "$$ d(p,q) = {\\sum_{i=0}^{f-1} (p_i - q_i)^2} $$\n",
    "\n",
    "<p dir=rtl style=\"direction: rtl;text-align: justify;line-height:200%;font-family:vazir;font-size:medium\">\n",
    "<font face=\"vazir\" size=3>\n",
    "در تمرین ما،‌ <code>f</code> برابر با <code>4</code> است. یعنی برای محاسبه‌ی فاصله‌ی بین دو نمونه کافیست عرض کاسبرگ آن‌ها را از هم کم کرده و به توان ۲ برسانیم، سپس  برای طول کاسبرگ،‌ عرض گلبرگ و طول گلبرگ نیز همین کار را انجام داده و حاصل به‌دست‌آمده برای هر چهار ویژگی را با هم جمع کنیم. \n",
    "برای محاسبه‌ی فاصله‌ی بین اجزای دو آرایه روش‌های مختلفی وجود دارد که ۳ رویکرد مختلف را آزمایش خواهیم کرد.\n",
    "</font>\n",
    "</p>"
   ]
  },
  {
   "attachments": {},
   "cell_type": "markdown",
   "id": "3b911f04",
   "metadata": {},
   "source": [
    "<h3 dir=rtl align=right style=\"line-height:200%;font-family:vazir;color:#0099cc\">\n",
    "<font face=\"vazir\" color=\"#0099cc\">\n",
    "روش دو حلقه‌ای\n",
    "</font>\n",
    "</h3>\n",
    "\n",
    "\n",
    "<p dir=rtl style=\"direction: rtl;text-align: justify;line-height:200%;font-family:vazir;font-size:medium\">\n",
    "<font face=\"vazir\" size=3>\n",
    "ابتدا می‌خواهیم این کار را به‌سادگی و به کمک دو حلقه (<code>for</code>) انجام دهیم. یعنی در این روش یک حلقه روی نمونه‌های آزمون می‌نویسیم و داخل آن یک حلقه روی نمونه‌های آموزشی می‌نویسیم تا به ازای هر نمونه‌ی آزمون،‌ مقدار فاصله با هرکدام از نمونه‌های آموزشی محاسبه شود.\n",
    "<br>\n",
    "در تابع زیر کافیست عبارتی را جلوی علامت مساوی (به‌جای <code>None</code>) قرار دهید که فاصله‌ی بین دو نقطه‌ی <code>new_points[i]</code> و <code>points[j]</code> را به کمک فرمول بالا محاسبه کند.\n",
    "<br>\n",
    "\n",
    "</font>\n",
    "</p>"
   ]
  },
  {
   "cell_type": "code",
   "id": "bbace2d7",
   "metadata": {
    "ExecuteTime": {
     "end_time": "2024-10-22T16:55:40.805371Z",
     "start_time": "2024-10-22T16:55:40.790790Z"
    }
   },
   "source": [
    "def calc_two_loops(new_points, points):\n",
    "    num_new_points = new_points.shape[0]  \n",
    "    num_points = points.shape[0]  \n",
    "      \n",
    "    distances = np.zeros((num_new_points, num_points))  \n",
    "    \n",
    "    for i in range(num_new_points):  \n",
    "        for j in range(num_points):   \n",
    "            distances[i, j] = np.sum((new_points[i] - points[j]) ** 2)  \n",
    "    \n",
    "    return distances  \n",
    "                \n",
    "            \n",
    "    # TO-DO"
   ],
   "outputs": [],
   "execution_count": 14
  },
  {
   "cell_type": "code",
   "id": "282f9b9c",
   "metadata": {
    "ExecuteTime": {
     "end_time": "2024-10-22T16:55:43.294941Z",
     "start_time": "2024-10-22T16:55:43.267977Z"
    }
   },
   "source": [
    "d2 = calc_two_loops(new_irises, irises)\n",
    "print(d2.shape)\n",
    "print(d2)"
   ],
   "outputs": [
    {
     "name": "stdout",
     "output_type": "stream",
     "text": [
      "(30, 120)\n",
      "[[2.000e-02 3.700e-01 2.600e-01 ... 1.875e+01 2.029e+01 2.189e+01]\n",
      " [2.200e-01 3.000e-02 1.000e-01 ... 1.781e+01 1.987e+01 2.183e+01]\n",
      " [7.800e-01 1.850e+00 1.860e+00 ... 1.983e+01 2.073e+01 2.257e+01]\n",
      " ...\n",
      " [2.301e+01 2.362e+01 2.527e+01 ... 9.200e-01 2.200e-01 6.200e-01]\n",
      " [2.638e+01 2.711e+01 2.866e+01 ... 1.650e+00 6.300e-01 3.900e-01]\n",
      " [1.714e+01 1.725e+01 1.848e+01 ... 4.300e-01 4.100e-01 5.900e-01]]\n"
     ]
    }
   ],
   "execution_count": 15
  },
  {
   "attachments": {},
   "cell_type": "markdown",
   "id": "3710e4d2",
   "metadata": {},
   "source": [
    "<h3 dir=rtl align=right style=\"line-height:200%;font-family:vazir;color:#0099cc\">\n",
    "<font face=\"vazir\" color=\"#0099cc\">\n",
    "روش تک حلقه‌ای\n",
    "</font>\n",
    "</h3>\n",
    "\n",
    "\n",
    "<p dir=rtl style=\"direction: rtl;text-align: justify;line-height:200%;font-family:vazir;font-size:medium\">\n",
    "<font face=\"vazir\" size=3>\n",
    "اکنون می‌خواهیم از خاصیت پخش یا بازآرایی آرایه‌ها استفاده کرده و به‌ترتیب هرکدام از حلقه‌ها را حذف کنیم. در این قسمت می‌خواهیم به کمک خاصیت پخش آرایه، حلقه‌ی داخلی را حذف کرده و فاصله‌ی هر نمونه‌ی آزمون را به‌صورت همزمان با همه‌ی نمونه‌های آموزشی محاسبه کنیم. پس در تابع زیر، این‌بار جلوی علامت مساوی (به‌جای <code>None</code>) عبارتی را قرار دهید که فاصله‌ی همه‌ی نمونه‌های آموزشی با نمونه‌ی آزمون <code>new_points[i]</code> را محاسبه کند.\n",
    "<br>\n",
    "\n",
    "</font>\n",
    "</p>"
   ]
  },
  {
   "cell_type": "code",
   "id": "021a9f1c",
   "metadata": {
    "ExecuteTime": {
     "end_time": "2024-10-22T16:55:59.149390Z",
     "start_time": "2024-10-22T16:55:59.137238Z"
    }
   },
   "source": [
    "def calc_one_loop(new_points, points):\n",
    "    num_new_points = new_points.shape[0]  \n",
    "    distances = np.zeros((num_new_points, points.shape[0]))  \n",
    "\n",
    "    for i in range(num_new_points):  \n",
    "        distances[i, :] = np.sum((points - new_points[i, :]) ** 2, axis=1)\n",
    "\n",
    "    return distances \n",
    "    # TO-DO   "
   ],
   "outputs": [],
   "execution_count": 16
  },
  {
   "cell_type": "code",
   "id": "4f7f3d42",
   "metadata": {
    "ExecuteTime": {
     "end_time": "2024-10-22T16:56:01.739376Z",
     "start_time": "2024-10-22T16:56:01.726504Z"
    }
   },
   "source": [
    "d1 = calc_one_loop(new_irises, irises)\n",
    "print(d1.shape)\n",
    "print(d1)"
   ],
   "outputs": [
    {
     "name": "stdout",
     "output_type": "stream",
     "text": [
      "(30, 120)\n",
      "[[2.000e-02 3.700e-01 2.600e-01 ... 1.875e+01 2.029e+01 2.189e+01]\n",
      " [2.200e-01 3.000e-02 1.000e-01 ... 1.781e+01 1.987e+01 2.183e+01]\n",
      " [7.800e-01 1.850e+00 1.860e+00 ... 1.983e+01 2.073e+01 2.257e+01]\n",
      " ...\n",
      " [2.301e+01 2.362e+01 2.527e+01 ... 9.200e-01 2.200e-01 6.200e-01]\n",
      " [2.638e+01 2.711e+01 2.866e+01 ... 1.650e+00 6.300e-01 3.900e-01]\n",
      " [1.714e+01 1.725e+01 1.848e+01 ... 4.300e-01 4.100e-01 5.900e-01]]\n"
     ]
    }
   ],
   "execution_count": 17
  },
  {
   "attachments": {},
   "cell_type": "markdown",
   "id": "e9af1fe4",
   "metadata": {},
   "source": [
    "<h3 dir=rtl align=right style=\"line-height:200%;font-family:vazir;color:#0099cc\">\n",
    "<font face=\"vazir\" color=\"#0099cc\">\n",
    "روش بدون حلقه\n",
    "</font>\n",
    "</h3>\n",
    "\n",
    "\n",
    "<p dir=rtl style=\"direction: rtl;text-align: justify;line-height:200%;font-family:vazir;font-size:medium\">\n",
    "<font face=\"vazir\" size=3>\n",
    "این‌بار باز هم از خاصیت‌های آرایه‌ها استفاده کرده و در تابع زیر جلوی <code>return</code> تنها یک خط کد بنویسید که کل فاصله‌ها را خروجی دهد.\n",
    "<br>\n",
    "ممکن است ساختن آرایه‌ی فاصله‌ها بدون حلقه، پیچیده به نظر برسد. اما استفاده از توابع نامپای به جای استفاده از حلقه، هم باعث سریع‌تر شدن کد و هم کوتاه‌تر شدن آن می‌شود و خوب است به آن عادت کنید. سریع‌تر شدن کد را می‌توانید با ورودی دادن آرایه‌های بزرگ آزمایش کنید.\n",
    "</font>\n",
    "</p>\n",
    "\n",
    "<p dir=rtl style=\"direction: rtl;text-align: justify;line-height:200%;font-family:vazir;font-size:medium\">\n",
    "<font face=\"vazir\" size=3>\n",
    "\n",
    "</font>\n",
    "</p>"
   ]
  },
  {
   "cell_type": "code",
   "id": "f3e881e6",
   "metadata": {
    "ExecuteTime": {
     "end_time": "2024-11-04T12:23:30.791736Z",
     "start_time": "2024-11-04T12:23:30.787449Z"
    }
   },
   "source": [
    "def calc_no_loop(new_points, points):\n",
    "    distances = np.sum((points[None, :, :] - new_points[:, None, :]) ** 2, axis=2)\n",
    "    return distances \n",
    "     # TO-DO"
   ],
   "outputs": [],
   "execution_count": 8
  },
  {
   "cell_type": "code",
   "id": "5091f442",
   "metadata": {
    "ExecuteTime": {
     "end_time": "2024-11-04T12:23:33.116380Z",
     "start_time": "2024-11-04T12:23:33.110467Z"
    }
   },
   "source": [
    "d = calc_no_loop(new_irises, irises)\n",
    "print(d.shape)\n",
    "print(d)"
   ],
   "outputs": [
    {
     "name": "stdout",
     "output_type": "stream",
     "text": [
      "(30, 120)\n",
      "[[2.000e-02 3.700e-01 2.600e-01 ... 1.875e+01 2.029e+01 2.189e+01]\n",
      " [2.200e-01 3.000e-02 1.000e-01 ... 1.781e+01 1.987e+01 2.183e+01]\n",
      " [7.800e-01 1.850e+00 1.860e+00 ... 1.983e+01 2.073e+01 2.257e+01]\n",
      " ...\n",
      " [2.301e+01 2.362e+01 2.527e+01 ... 9.200e-01 2.200e-01 6.200e-01]\n",
      " [2.638e+01 2.711e+01 2.866e+01 ... 1.650e+00 6.300e-01 3.900e-01]\n",
      " [1.714e+01 1.725e+01 1.848e+01 ... 4.300e-01 4.100e-01 5.900e-01]]\n"
     ]
    }
   ],
   "execution_count": 9
  },
  {
   "attachments": {},
   "cell_type": "markdown",
   "id": "7ca46ad9",
   "metadata": {},
   "source": [
    "<h3 dir=rtl align=right style=\"line-height:200%;font-family:vazir;color:#0099cc\">\n",
    "<font face=\"vazir\" color=\"#0099cc\">\n",
    "بررسی\n",
    "🧐\n",
    "</font>\n",
    "</h3>\n",
    "\n",
    "<p dir=rtl style=\"direction: rtl;text-align: justify;line-height:200%;font-family:vazir;font-size:medium\">\n",
    "<font face=\"vazir\" size=3>\n",
    "محاسبه‌ی آرایه فاصله‌ها به سه روش فوق، نباید تفاوتی در نتیجه حاصل کند. از این رو کد زیر را اجرا کنید تا از برابر بودن خروجی سه تابع فوق اطمینان حاصل کنید. از این به بعد از آرایه‌ی ‍<code>d</code> به عنوان آرایه‌ی فاصله‌ها استفاده می‌کنیم.\n",
    "</font>\n",
    "</p>"
   ]
  },
  {
   "cell_type": "code",
   "id": "6b3eda6e",
   "metadata": {
    "ExecuteTime": {
     "end_time": "2024-10-22T16:57:33.822870Z",
     "start_time": "2024-10-22T16:57:33.813227Z"
    }
   },
   "source": [
    "if np.allclose(d, d1, 1e-5) and np.allclose(d, d2, 1e-5) and np.allclose(d1, d2, 1e-5):\n",
    "    print('Fine!')\n",
    "else:\n",
    "    print('There is something wrong!')"
   ],
   "outputs": [
    {
     "name": "stdout",
     "output_type": "stream",
     "text": [
      "Fine!\n"
     ]
    }
   ],
   "execution_count": 29
  },
  {
   "attachments": {},
   "cell_type": "markdown",
   "id": "736578c2",
   "metadata": {},
   "source": [
    "<h2 dir=rtl align=right style=\"line-height:200%;font-family:vazir;color:#0099cc\">\n",
    "<font face=\"vazir\" color=\"#0099cc\">\n",
    "قسمت ۲: پیدا کردن <code>k</code> نزدیک‌ترین همسایه\n",
    "</font>\n",
    "</h2>\n",
    "\n",
    "<p dir=rtl style=\"direction: rtl;text-align: justify;line-height:200%;font-family:vazir;font-size:medium\">\n",
    "<font face=\"vazir\" size=3>\n",
    "    به کمک توابع پیاده‌سازی شده توانستیم فاصله‌ی هر نمونه‌ی آزمون با هرکدام از نمونه‌های آموزشی را محاسبه کنیم و حاصل را در <code>d</code> ذخیره کردیم.\n",
    "    یعنی فاصله‌ی نمونه‌ی آزمون <code>new_irises[i]</code> با نمونه‌ی آموزشی <code>irises[j]</code> را در درایه‌ی <code>d[i][j]</code> ذخیره کرده‌ایم. اکنون نیاز است به‌ازای هر نمونه‌ی آزمون، <code>k</code> نمونه‌ی آموزشی با کمترین فاصله به آن را پیدا کنیم. توجه داشته باشید که باید شماره‌ی نزدیک‌ترین نمونه‌ها را ذخیره کنیم، نه خود مقدار فاصله را. در اینجا <code>k</code> را برابر <code>10</code> در نظر بگیرید، بنابراین آرایه‌ی خروجی <code>k_nearest</code> یک ماتریس با ابعاد <code dir=ltr>(30, 10)</code> خواهد بود.\n",
    "</font>\n",
    "</p>\n",
    "\n",
    "<p dir=rtl style=\"direction: rtl;text-align: justify;line-height:200%;font-family:vazir;font-size:medium\">\n",
    "<font face=\"vazir\" size=3>\n",
    "    <b style=\"color:green\">راهنمایی:</b>\n",
    "    به منظور پیدا کردن نزدیک‌ترین همسایگان (کم‌ترین فاصله‌ها) از <code>np.argpartition</code> استفاده کنید.\n",
    "    تفاوت <code>argpartition</code> با <code>partition</code> همچون تفاوت <code>argsort</code> با <code>sort</code> است. یعنی این تابع، شماره (اندیس) عناصر مرتب‌شده را خروجی می‌دهد و نه مقدار آن‌ها را.\n",
    "</font>\n",
    "</p>"
   ]
  },
  {
   "cell_type": "code",
   "id": "6619de84",
   "metadata": {
    "ExecuteTime": {
     "end_time": "2024-11-04T12:23:46.853916Z",
     "start_time": "2024-11-04T12:23:46.848280Z"
    }
   },
   "source": [
    "k = 10\n",
    "k_nearest = np.argpartition(d, k, axis=1)[:,:k]  # TO-DO\n",
    "print(k_nearest)"
   ],
   "outputs": [
    {
     "name": "stdout",
     "output_type": "stream",
     "text": [
      "[[  0  14  32   6  22  17  23  37  39  21]\n",
      " [ 30   1  24  10  20  36   2   3   6  28]\n",
      " [ 27  13  12  15   8  29  39   4  26  25]\n",
      " [ 17  37  39  14   0  22   8  32  26  13]\n",
      " [  9  21  24   6  19  30  20   3  35   5]\n",
      " [ 24   3   9  38  30   2  36   5  10   1]\n",
      " [ 30   1  24  10  20  36   2   3   6  28]\n",
      " [  6   0  23  22  14  21  32   9  17  39]\n",
      " [ 37   4  17  35  39  21  22  19   8  16]\n",
      " [  6  28   0  23  14  32  30  21  22   9]\n",
      " [ 47  60  61  69  52  41  51  73 101  58]\n",
      " [ 43  64  71  65  77  72  66  74  76  54]\n",
      " [ 66  71  74  64  65  77  76  54  57  49]\n",
      " [ 64  65  74  66  43  54  50  72  77  71]\n",
      " [ 78  60  47  52  41  57  73  63  51  59]\n",
      " [ 65  64  66  74  54  43  50  57  71  75]\n",
      " [ 53  44  77  71  76  72  49  63  56  97]\n",
      " [ 43  64  74  66  72  65  54  77  71  76]\n",
      " [ 77  72  71  74  44  76  54  66  43  53]\n",
      " [ 77  71  76  66  74  54  49  44  57  72]\n",
      " [106 103 112 115  90  96  93  83  80 110]\n",
      " [115  96  82 108 100  94 112 105  80  84]\n",
      " [ 97  81 114  91 102 111  92 117 101  56]\n",
      " [ 58  67  55 117  91  99 107 114  81  70]\n",
      " [ 96 115 112  90 110  93 109  82  92 103]\n",
      " [100 104  82  86  90  87  93  96 115 110]\n",
      " [ 83  67 107  89  93 110  58  87  81 114]\n",
      " [ 90 116 113  96 112 118  93  88  82  92]\n",
      " [112  96 115 109  80  90  92 116 119 106]\n",
      " [102 111 114  81  56  67  97 101  99 107]]\n"
     ]
    }
   ],
   "execution_count": 11
  },
  {
   "attachments": {},
   "cell_type": "markdown",
   "id": "4f32a9ad",
   "metadata": {},
   "source": [
    "<h2 dir=rtl align=right style=\"line-height:200%;font-family:vazir;color:#0099cc\">\n",
    "<font face=\"vazir\" color=\"#0099cc\">\n",
    "قسمت ۳: پیدا کردن نوع <code>k</code> نزدیک‌ترین همسایه\n",
    "</font>\n",
    "</h2>\n",
    "\n",
    "<p dir=rtl style=\"direction: rtl;text-align: justify;line-height:200%;font-family:vazir;font-size:medium\">\n",
    "<font face=\"vazir\" size=3>\n",
    "    اکنون اندیس نزدیک‌ترین همسایه‌ها (نمونه‌های آموزشی) برای هر نمونه‌ی آزمون را در آرایه‌ی <code>k_nearest</code> داریم. اما ما به دنبال نوع هرکدام از آن‌ها هستیم. برای آن‌که به‌جای هرکدام از اندیس‌ها،‌ نوع آن گل را جایگزین کنید می‌توانید از آرایه‌ی <code>types</code> استفاده کنید. این کار را در یک خط انجام داده و متغیر ‌<code>k_nearest_types</code> را مقداردهی کنید.\n",
    "</font>\n",
    "</p>"
   ]
  },
  {
   "cell_type": "code",
   "id": "b60f862c",
   "metadata": {
    "ExecuteTime": {
     "end_time": "2024-11-04T12:25:27.443616Z",
     "start_time": "2024-11-04T12:25:27.437952Z"
    }
   },
   "source": [
    "k_nearest_types = types[k_nearest]   # TO-DO\n",
    "print(k_nearest_types)"
   ],
   "outputs": [
    {
     "name": "stdout",
     "output_type": "stream",
     "text": [
      "[[0 0 0 0 0 0 0 0 0 0]\n",
      " [0 0 0 0 0 0 0 0 0 0]\n",
      " [0 0 0 0 0 0 0 0 0 0]\n",
      " [0 0 0 0 0 0 0 0 0 0]\n",
      " [0 0 0 0 0 0 0 0 0 0]\n",
      " [0 0 0 0 0 0 0 0 0 0]\n",
      " [0 0 0 0 0 0 0 0 0 0]\n",
      " [0 0 0 0 0 0 0 0 0 0]\n",
      " [0 0 0 0 0 0 0 0 0 0]\n",
      " [0 0 0 0 0 0 0 0 0 0]\n",
      " [1 1 1 1 1 1 1 1 2 1]\n",
      " [1 1 1 1 1 1 1 1 1 1]\n",
      " [1 1 1 1 1 1 1 1 1 1]\n",
      " [1 1 1 1 1 1 1 1 1 1]\n",
      " [1 1 1 1 1 1 1 1 1 1]\n",
      " [1 1 1 1 1 1 1 1 1 1]\n",
      " [1 1 1 1 1 1 1 1 1 2]\n",
      " [1 1 1 1 1 1 1 1 1 1]\n",
      " [1 1 1 1 1 1 1 1 1 1]\n",
      " [1 1 1 1 1 1 1 1 1 1]\n",
      " [2 2 2 2 2 2 2 2 2 2]\n",
      " [2 2 2 2 2 2 2 2 2 2]\n",
      " [2 2 2 2 2 2 2 2 2 1]\n",
      " [1 1 1 2 2 2 2 2 2 1]\n",
      " [2 2 2 2 2 2 2 2 2 2]\n",
      " [2 2 2 2 2 2 2 2 2 2]\n",
      " [2 1 2 2 2 2 1 2 2 2]\n",
      " [2 2 2 2 2 2 2 2 2 2]\n",
      " [2 2 2 2 2 2 2 2 2 2]\n",
      " [2 2 2 2 1 1 2 2 2 2]]\n"
     ]
    }
   ],
   "execution_count": 13
  },
  {
   "attachments": {},
   "cell_type": "markdown",
   "id": "eb9c7e91",
   "metadata": {},
   "source": [
    "<h2 dir=rtl align=right style=\"line-height:200%;font-family:vazir;color:#0099cc\">\n",
    "<font face=\"vazir\" color=\"#0099cc\">\n",
    "قسمت ۴: تعیین نوع گل‌های جدید\n",
    "</font>\n",
    "</h2>\n",
    "\n",
    "<p dir=rtl style=\"direction: rtl;text-align: justify;line-height:200%;font-family:vazir;font-size:medium\">\n",
    "<font face=\"vazir\" size=3>\n",
    "    در نهایت، باید یک آرایه به نام <code>predicted_types</code> و به طول <code>m</code> بسازیم که در خانه‌ی <code>predicted_types[i]</code>، پرتکرارترین شناسه در <code>k_nearest_types[i]</code> به عنوان شناسه نوع پیش‌بینی شده برای <code>new_irises[i]</code> قرار می‌گیرد.\n",
    "    <br>\n",
    "    از آنجا که نامپای مستقیماً‌ تابع مُد (<code>mode</code>) ندارد، این کار را به کمک تابع <code>mode</code> که داخل کتابخانه‌ی <code>scipy</code> قرار دارد، انجام داده‌ایم.\n",
    "</font>\n",
    "</p>"
   ]
  },
  {
   "cell_type": "code",
   "id": "785a1c4d",
   "metadata": {
    "ExecuteTime": {
     "end_time": "2024-11-04T12:25:30.209695Z",
     "start_time": "2024-11-04T12:25:30.195341Z"
    }
   },
   "source": [
    "from scipy import stats\n",
    "predicted_types = stats.mode(k_nearest_types, axis=1).mode.reshape(m)\n",
    "predicted_types"
   ],
   "outputs": [
    {
     "data": {
      "text/plain": [
       "array([0, 0, 0, 0, 0, 0, 0, 0, 0, 0, 1, 1, 1, 1, 1, 1, 1, 1, 1, 1, 2, 2,\n",
       "       2, 2, 2, 2, 2, 2, 2, 2])"
      ]
     },
     "execution_count": 14,
     "metadata": {},
     "output_type": "execute_result"
    }
   ],
   "execution_count": 14
  },
  {
   "attachments": {},
   "cell_type": "markdown",
   "id": "1237953f",
   "metadata": {},
   "source": [
    "<p dir=rtl style=\"direction: rtl;text-align: justify;line-height:200%;font-family:vazir;font-size:medium\">\n",
    "<font face=\"vazir\" size=3>\n",
    "در این قسمت، آرایه‌ی <code>new_types</code> بارگیری شده است که حاوی جواب‌های درست است. از روی آن، دقت دسته‌بندی‌ را محاسبه و در متغیر <code>accuracy</code> ذخیره کنید. دقت دسته‌بندی برابر با تعداد پیش‌بینی‌های درست تقسیم بر تعداد نمونه‌های آزمون است. اگر مراحل کار را درست انجام داده باشید، دقت باید برابر ۱ باشد (یعنی دسته‌بند نوع تمام گل‌های آزمون را درست پیش‌بینی کرده است).\n",
    "</font>\n",
    "</p>"
   ]
  },
  {
   "cell_type": "code",
   "id": "6c855388",
   "metadata": {
    "ExecuteTime": {
     "end_time": "2024-11-04T12:25:52.829741Z",
     "start_time": "2024-11-04T12:25:52.816495Z"
    }
   },
   "source": [
    "new_types = np.load('new_types.npy')\n",
    "accuracy = np.sum(new_types == predicted_types)/new_types.shape[0] # TO-DO\n",
    "print('Accuracy:', accuracy)"
   ],
   "outputs": [
    {
     "name": "stdout",
     "output_type": "stream",
     "text": [
      "Accuracy: 1.0\n"
     ]
    }
   ],
   "execution_count": 15
  },
  {
   "cell_type": "markdown",
   "id": "3d74bc81-b60c-4aa9-b1dd-d779c961eba0",
   "metadata": {},
   "source": [
    "<h2 dir=rtl align=right style=\"line-height:200%;font-family:vazir;color:#0099cc\">\n",
    "<font face=\"vazir\" color=\"#0099cc\">\n",
    "خسته نباشید! شما الگوریتم نزدیک‌ترین همسایه‌ها را پیاده‌سازی کردید\n",
    "</font>\n",
    "</h2>\n",
    "\n",
    "<p dir=rtl style=\"direction: rtl;text-align: justify;line-height:200%;font-family:vazir;font-size:medium\">\n",
    "<font face=\"vazir\" size=3>\n",
    "    تبریک می‌گویم! شما با موفقیت الگوریتم نزدیک‌ترین همسایه‌ها (KNN) را پیاده‌سازی کردید. این الگوریتم به دلیل سادگی و کارایی‌اش در یادگیری ماشین بسیار محبوب است. \n",
    "    <br><br>\n",
    "    KNN که مخفف <b style=\"color:#0099cc\">k-Nearest Neighbors</b> است، به شما این امکان را می‌دهد که بر اساس نمونه‌های آموزشی، نوع یک نمونه جدید را پیش‌بینی کنید. \n",
    "    <br><br>\n",
    "    از کاربردهای این الگوریتم می‌توان به دسته‌بندی تصاویر، تشخیص بیماری‌ها، تشخیص اسپم در ایمیل‌ها، و پیش‌بینی رفتار مشتریان اشاره کرد. به عنوان مثال، در حوزه پزشکی، از KNN برای پیش‌بینی نوع بیماری بر اساس علائم بیمار استفاده می‌شود. همچنین در سیستم‌های توصیه‌گر، KNN به کاربران پیشنهادهایی بر اساس سلیقه‌های مشابه ارائه می‌دهد.\n",
    "    <br><br>\n",
    "    امیدوارم این پارت تمرین به شما در درک بهتر مفاهیم یادگیری ماشین کمک کرده باشد و توانسته باشید تجربه‌ای مفید کسب کنید.\n",
    "</font>\n",
    "</p>\n"
   ]
  },
  {
   "cell_type": "markdown",
   "id": "9822e1ab",
   "metadata": {},
   "source": [
    "<h2 dir=rtl align=right style=\"line-height:200%;font-family:vazir;color:#0099cc\">\n",
    "<font face=\"vazir\" color=\"#0099cc\">\n",
    "الگوریتم خوشه‌بندی\n",
    "</font>\n",
    "</h2>\n",
    "\n",
    "<p dir=rtl style=\"direction: rtl;text-align: justify;line-height:200%;font-family:vazir;font-size:medium\">\n",
    "<font face=\"vazir\" size=3>\n",
    "در این قسمت می‌خواهیم یک الگوریتم خوشه‌بندی را پیاده‌سازی کنیم که به دسته‌بندی داده‌ها کمک می‌کند. هدف این الگوریتم این است که داده‌هایی که ویژگی‌های مشابهی دارند را در یک گروه قرار دهد و به آن‌ها یک برچسب مشترک اختصاص دهد. با اتمام مرحله آموزش، این الگوریتم داده‌ها را به <code>k</code> گروه تقسیم می‌کند.\n",
    "<br>\n",
    "مراحل این الگوریتم به شرح زیر است:\n",
    "\n",
    "<ol dir=rtl>\n",
    "<li>ابتدا <code>k</code> نقطه به عنوان مرکز هر خوشه به صورت تصادفی انتخاب می‌کنیم. این نقاط را <code>centroid</code> یا مرکز ثقل می‌نامیم.</li>\n",
    "<li>سپس هر کدام از داده‌ها را به نزدیک‌ترین <code>centroid</code> نسبت می‌دهیم. (نزدیکی را با فاصله اقلیدسی یا معیار دیگری می‌توان سنجید)</li>\n",
    "<li>حال برای هر خوشه از نقاطی که در مرحله قبل انتخاب شدند، میانگین گرفته و مرکز ثقل جدید این خوشه انتخاب می‌شود.</li>\n",
    "<li>این مراحل را تکرار می‌کنیم تا زمانی که مراکز ثقل دیگر تغییری نکنند و الگوریتم همگرا شود.</li>\n",
    "</ol>\n",
    "</font>\n",
    "</p>\n"
   ]
  },
  {
   "cell_type": "markdown",
   "id": "a6b78271",
   "metadata": {},
   "source": [
    "\n",
    "<p dir=rtl style=\"direction: rtl;text-align: justify;line-height:200%;font-family:vazir;font-size:medium\">\n",
    "<font face=\"vazir\" size=3>\n",
    "اکنون شروع کنیم و هرکدام از گام‌های این الگوریتم را به کمک نامپای پیاده‌سازی می‌کنیم.\n",
    "\n",
    "</font>\n",
    "</p>"
   ]
  },
  {
   "cell_type": "markdown",
   "id": "62584cd9",
   "metadata": {},
   "source": [
    "<h2 dir=rtl align=right style=\"line-height:200%;font-family:vazir;color:#0099cc\">\n",
    "<font face=\"vazir\" color=\"#0099cc\">\n",
    "قسمت ۱: انتخاب centroid ها\n",
    "</font>\n",
    "</h2>\n",
    "\n",
    "<p dir=rtl style=\"direction: rtl;text-align: justify;line-height:200%;font-family:vazir;font-size:medium\">\n",
    "<font face=\"vazir\" size=3>\n",
    "در این قسمت ابتدا با استفاده از <code>np.random</code> مرکز ثقل ها را بدون جایگذاری انتخاب کنید.\n",
    "</font>\n",
    "</p>"
   ]
  },
  {
   "cell_type": "code",
   "id": "620d3928",
   "metadata": {
    "ExecuteTime": {
     "end_time": "2024-10-22T17:01:46.060586Z",
     "start_time": "2024-10-22T17:01:46.038647Z"
    }
   },
   "source": [
    "def initialize_centroids(X, k):\n",
    "    \"\"\" Randomly select k data points as initial centroids. \"\"\"\n",
    "    #TO-DO\n",
    "    centroids=np.random.randint(X.shape[0], size=k)\n",
    "    return X[centroids,:]\n",
    "centroids = initialize_centroids(irises, k)\n",
    "print(centroids)"
   ],
   "outputs": [
    {
     "name": "stdout",
     "output_type": "stream",
     "text": [
      "[[5.5 2.4 3.7 1. ]\n",
      " [6.3 2.5 4.9 1.5]\n",
      " [6.4 3.2 4.5 1.5]\n",
      " [5.3 3.7 1.5 0.2]\n",
      " [7.6 3.  6.6 2.1]\n",
      " [6.4 3.2 4.5 1.5]\n",
      " [6.7 3.1 4.7 1.5]\n",
      " [5.7 2.9 4.2 1.3]\n",
      " [6.1 2.8 4.7 1.2]\n",
      " [6.3 2.7 4.9 1.8]]\n"
     ]
    }
   ],
   "execution_count": 40
  },
  {
   "cell_type": "markdown",
   "id": "63e946f6",
   "metadata": {},
   "source": [
    "<h2 dir=rtl align=right style=\"line-height:200%;font-family:vazir;color:#0099cc\">\n",
    "<font face=\"vazir\" color=\"#0099cc\">\n",
    "قسمت ۲: محاسبه فاصله نقاط از centroid ها.\n",
    "</font>\n",
    "</h2>\n",
    "\n",
    "<p dir=rtl style=\"direction: rtl;text-align: justify;line-height:200%;font-family:vazir;font-size:medium\">\n",
    "<font face=\"vazir\" size=3>\n",
    "در این قسمت باید فاصله همه نقاط را با تک تک مرکز های ثقل محاسبه کنید و آن را برگردانید.\n",
    "</font>\n",
    "</p>"
   ]
  },
  {
   "cell_type": "code",
   "id": "02f32028",
   "metadata": {
    "ExecuteTime": {
     "end_time": "2024-10-22T17:02:09.746278Z",
     "start_time": "2024-10-22T17:02:09.737768Z"
    }
   },
   "source": [
    "def compute_distance(X, centroids):\n",
    "    \"\"\" Compute the distance between each point and the centroids. \"\"\"\n",
    "    #TO-DO\n",
    "    distances = np.sum((centroids[None, :, :] - X[:, None, :]) ** 2, axis=2)\n",
    "    return distances\n",
    "distances = compute_distance(irises, centroids)\n",
    "print(distances.shape)\n",
    "print(distances)\n"
   ],
   "outputs": [
    {
     "name": "stdout",
     "output_type": "stream",
     "text": [
      "(120, 10)\n",
      "[[ 7.3  16.38 13.08 ...  9.77 13.38 16.89]\n",
      " [ 6.65 16.15 13.59 ...  9.7  13.37 16.86]\n",
      " [ 7.68 17.7  14.82 ... 10.71 14.68 18.33]\n",
      " ...\n",
      " [ 3.15  0.17  0.91 ...  1.52  0.71  0.06]\n",
      " [ 4.61  0.63  0.79 ...  2.14  1.09  0.26]\n",
      " [ 6.07  1.71  1.53 ...  2.94  2.07  1.  ]]\n"
     ]
    }
   ],
   "execution_count": 42
  },
  {
   "cell_type": "markdown",
   "id": "1f8eac69",
   "metadata": {},
   "source": [
    "<h2 dir=rtl align=right style=\"line-height:200%;font-family:vazir;color:#0099cc\">\n",
    "<font face=\"vazir\" color=\"#0099cc\">\n",
    "قسمت ۳: محاسبه اندیس نزدیک ترین centroid.\n",
    "</font>\n",
    "</h2>\n",
    "\n",
    "<p dir=rtl style=\"direction: rtl;text-align: justify;line-height:200%;font-family:vazir;font-size:medium\">\n",
    "<font face=\"vazir\" size=3>\n",
    "در اینجا باید برای هرکدام از داده ها نزدیک ترین centroid را با توجه به خروجی تابع فاصله پیدا کنید و اندیس آن centroid را برگردانید.\n",
    "</font>\n",
    "</p>"
   ]
  },
  {
   "cell_type": "code",
   "id": "00aa33f0",
   "metadata": {
    "ExecuteTime": {
     "end_time": "2024-10-16T10:31:30.697010Z",
     "start_time": "2024-10-16T10:31:30.687814Z"
    }
   },
   "source": [
    "def assign_clusters(X, centroids):\n",
    "    \"\"\" Assign each data point to the closest centroid. \"\"\"\n",
    "    #TO-DO\n",
    "    closest_centroid_indices = np.argmin(X, axis=1) \n",
    "    #closest_centroids = centroids[closest_centroid_indices]\n",
    "    return closest_centroid_indices\n",
    "assign=assign_clusters(distances, centroids)\n",
    "print(assign.shape)\n",
    "print(assign)"
   ],
   "outputs": [
    {
     "name": "stdout",
     "output_type": "stream",
     "text": [
      "(120,)\n",
      "[0 9 8 8 0 4 0 8 0 4 8 8 0 0 3 0 0 0 3 0 9 4 0 0 8 0 0 0 2 0 9 8 3 8 8 3 9\n",
      " 0 8 0 5 5 5 7 7 5 7 7 7 7 7 7 5 6 7 7 6 7 7 7 5 7 5 7 7 7 7 6 5 5 7 7 7 7\n",
      " 7 7 7 7 7 9 1 6 1 6 1 6 1 1 5 6 1 6 6 6 1 1 1 6 1 6 1 6 6 6 1 1 6 7 1 6 6\n",
      " 6 1 5 6 1 6 6 6 6]\n"
     ]
    }
   ],
   "execution_count": 104
  },
  {
   "cell_type": "markdown",
   "id": "0341aec9",
   "metadata": {},
   "source": [
    "<h2 dir=rtl align=right style=\"line-height:200%;font-family:vazir;color:#0099cc\">\n",
    "<font face=\"vazir\" color=\"#0099cc\">\n",
    "قسمت ۴: Update مراکز ثقل\n",
    "</font>\n",
    "</h2>\n",
    "\n",
    "<p dir=rtl style=\"direction: rtl;text-align: justify;line-height:200%;font-family:vazir;font-size:medium\">\n",
    "<font face=\"vazir\" size=3>\n",
    "در اینجا هرکدام از centroid ها را با میانگین گرفتن از نقاط درون یک cluster بروزرسانی می‌کنیم.\n",
    "</font>\n",
    "</p>"
   ]
  },
  {
   "cell_type": "code",
   "id": "b45fd7c9",
   "metadata": {
    "ExecuteTime": {
     "end_time": "2024-10-16T10:31:58.752742Z",
     "start_time": "2024-10-16T10:31:58.742374Z"
    }
   },
   "source": [
    "def update_centroids(X, labels, k):\n",
    "    \"\"\" Update centroids by calculating the mean of points in each cluster. \"\"\"\n",
    "    new_centroids = np.zeros((k, X.shape[1])) \n",
    "    for i in range(k):  \n",
    "        points_in_cluster = X[labels == i]  \n",
    "        if len(points_in_cluster) > 0:  \n",
    "            new_centroids[i] = np.mean(points_in_cluster, axis=0)  \n",
    "    return new_centroids  \n",
    "new_centroids = update_centroids(irises,assign, k)\n",
    "print(new_centroids)"
   ],
   "outputs": [
    {
     "name": "stdout",
     "output_type": "stream",
     "text": [
      "[[5.31666667 3.7        1.51111111 0.27222222]\n",
      " [7.21875    3.075      6.1375     2.11875   ]\n",
      " [5.         3.2        1.2        0.2       ]\n",
      " [4.925      3.525      1.325      0.35      ]\n",
      " [4.8        3.4        1.53333333 0.3       ]\n",
      " [6.60909091 3.15454545 4.72727273 1.62727273]\n",
      " [6.1125     2.89166667 5.13333333 1.93333333]\n",
      " [5.85714286 2.64642857 4.225      1.25714286]\n",
      " [4.55       3.         1.36       0.19      ]\n",
      " [4.94       2.92       1.78       0.38      ]]\n"
     ]
    }
   ],
   "execution_count": 106
  },
  {
   "cell_type": "markdown",
   "id": "aeaed81c",
   "metadata": {},
   "source": [
    "<h2 dir=rtl align=right style=\"line-height:200%;font-family:vazir;color:#0099cc\">\n",
    "<font face=\"vazir\" color=\"#0099cc\">\n",
    "قسمت ۵: حلقه Training\n",
    "</font>\n",
    "</h2>\n",
    "\n",
    "<p dir=rtl style=\"direction: rtl;text-align: justify;line-height:200%;font-family:vazir;font-size:medium\">\n",
    "<font face=\"vazir\" size=3>\n",
    "در این قسمت مراحلی که در توضیح الگوریتم گفته شد را بصورت پیوسته انجام می‌دهیم تا در نهایت تغییری که در centroid ها در هر مرحله ایجاد می‌شود حداکثر به اندازه <code>tol</code> باشد.\n",
    "</font>\n",
    "</p>"
   ]
  },
  {
   "cell_type": "code",
   "id": "89319022",
   "metadata": {
    "ExecuteTime": {
     "end_time": "2024-10-16T10:32:13.232005Z",
     "start_time": "2024-10-16T10:32:13.217273Z"
    }
   },
   "source": [
    "def kmeans(X, k, max_iters=100, tol=1e-4):\n",
    "    \"\"\"K-Means clustering algorithm.\"\"\"\n",
    "    centroids = initialize_centroids(X, k)\n",
    "    for i in range(max_iters):\n",
    "        \"\"\"\n",
    "        Steps:\n",
    "            1.Assign each point to the nearest centroid.\n",
    "            2.Compute new centroids.\n",
    "            3.Check for convergence if the new centroids have a distance of less than <tol> from previous centroids.\n",
    "        \"\"\"\n",
    "        #TO-DO\n",
    "        \n",
    "        distances = compute_distance(X, centroids)\n",
    "        labels=assign_clusters(distances, centroids)      \n",
    "        new_centroids = update_centroids(X, labels, k)\n",
    "        if np.all(np.linalg.norm(new_centroids - centroids, axis=1) < tol):  \n",
    "            print(f'Converged after {i} iterations.')  \n",
    "            break \n",
    "        centroids = new_centroids\n",
    "\n",
    "    return centroids, labels\n",
    "print(kmeans(irises, k))"
   ],
   "outputs": [
    {
     "name": "stdout",
     "output_type": "stream",
     "text": [
      "Converged after 6 iterations.\n",
      "(array([[6.57647059, 3.05882353, 5.57647059, 2.16470588],\n",
      "       [5.47142857, 4.        , 1.51428571, 0.28571429],\n",
      "       [6.32727273, 2.80909091, 5.02727273, 1.77272727],\n",
      "       [5.        , 2.3       , 3.275     , 1.025     ],\n",
      "       [7.57777778, 3.1       , 6.42222222, 2.04444444],\n",
      "       [5.14375   , 3.49375   , 1.50625   , 0.29375   ],\n",
      "       [4.66470588, 3.07647059, 1.35882353, 0.2       ],\n",
      "       [6.41176471, 2.94705882, 4.58235294, 1.42352941],\n",
      "       [5.6625    , 2.8       , 4.8375    , 1.825     ],\n",
      "       [5.72142857, 2.67142857, 4.07857143, 1.20714286]]), array([5, 6, 6, 6, 1, 6, 5, 6, 1, 5, 6, 6, 1, 1, 5, 1, 5, 5, 6, 5, 6, 5,\n",
      "       5, 5, 6, 5, 1, 1, 6, 5, 6, 6, 5, 6, 6, 5, 6, 5, 6, 5, 7, 7, 7, 9,\n",
      "       9, 7, 3, 7, 3, 9, 9, 7, 7, 8, 9, 7, 8, 9, 2, 7, 7, 7, 2, 7, 9, 9,\n",
      "       9, 2, 7, 7, 7, 9, 9, 7, 9, 3, 9, 9, 7, 3, 0, 8, 0, 0, 4, 8, 4, 0,\n",
      "       2, 2, 0, 8, 0, 0, 4, 4, 0, 8, 4, 2, 4, 2, 2, 0, 4, 4, 0, 2, 4, 0,\n",
      "       0, 8, 0, 0, 8, 0, 0, 2, 2, 0]))\n"
     ]
    }
   ],
   "execution_count": 107
  },
  {
   "cell_type": "markdown",
   "id": "1ef0b178-e70d-438b-96eb-4bf05b2704e9",
   "metadata": {},
   "source": [
    "<h2 dir=rtl align=right style=\"line-height:200%;font-family:vazir;color:#0099cc\">\n",
    "<font face=\"vazir\" color=\"#0099cc\">\n",
    "تبریک به شما برای پیاده‌سازی الگوریتم خوشه‌بندی\n",
    "</font>\n",
    "</h2>\n",
    "\n",
    "<p dir=rtl style=\"direction: rtl;text-align: justify;line-height:200%;font-family:vazir;font-size:medium\">\n",
    "<font face=\"vazir\" size=3>\n",
    "    تبریک می‌گوییم! شما موفق به پیاده‌سازی الگوریتم خوشه‌بندی شدید. این الگوریتم به نام <code>K-Means</code> شناخته می‌شود و یک روش موثر برای گروه‌بندی داده‌ها به دسته‌های مشابه است.\n",
    "    <br>\n",
    "    K-Means از طریق تقسیم داده‌ها به <code>k</code> خوشه، سعی می‌کند تا نقاط نزدیک به یکدیگر را در یک گروه قرار دهد. این روش کاربردهای گسترده‌ای در زمینه‌های مختلف دارد، از جمله:\n",
    "</font>\n",
    "</p>\n",
    "\n",
    "<ul dir=rtl>\n",
    "<font face=\"vazir\" size=3>\n",
    "<li>تحلیل داده‌های بازاریابی و تقسیم‌بندی مشتریان بر اساس رفتار خرید</li>\n",
    "<li>خوشه‌بندی تصاویر برای سازماندهی و جستجوی سریع‌تر اطلاعات بصری</li>\n",
    "<li>تحلیل داده‌های اجتماعی برای شناسایی گروه‌های مشابه و رفتارهای مشترک</li>\n",
    "<li>کاهش ابعاد داده‌ها برای تسهیل در تجزیه و تحلیل و مصورسازی</li>\n",
    "<li>شناسایی الگوهای ناهنجاری در داده‌ها برای بهبود کیفیت و دقت اطلاعات</li>\n",
    "</font>\n",
    "</ul>\n",
    "\n",
    "<p dir=rtl style=\"direction: rtl;text-align: justify;line-height:200%;font-family:vazir;font-size:medium\">\n",
    "<font face=\"vazir\" size=3>\n",
    "   با استفاده از این الگوریتم، می‌توانید به بینش‌های عمیق‌تری در داده‌های خود دست یابید و تصمیم‌گیری‌های بهتری انجام دهید. !\n",
    "</font>\n",
    "</p>\n",
    "\n",
    "<p align=\"center\">\n",
    "  <img src=\"Kmeans.png\" alt=\"Kmeans Clustering\">\n",
    "</p>\n"
   ]
  },
  {
   "cell_type": "markdown",
   "id": "9edc51cf-dbaa-4453-985c-0783b33b60ec",
   "metadata": {},
   "source": [
    "<h2 dir=rtl align=right style=\"line-height:200%;font-family:vazir;color:#0099cc\">\n",
    "<font face=\"vazir\" color=\"#0099cc\">\n",
    "کاربرد در زمینه Image Segmentation\n",
    "</font>\n",
    "</h2>\n",
    "\n",
    "<p dir=rtl style=\"direction: rtl;text-align: justify;line-height:200%;font-family:vazir;font-size:medium\">\n",
    "<font face=\"vazir\" size=3>\n",
    "Image Segmentation یک حوزه‌ای از یادگیری ماشین است که در آن سعی می‌شود تا اجزای یک تصویر را از همدیگر تشخیص داده و در تعدادی گروه قرار دهیم. برای مثال در تصاویر زیر نمونه ای از این پروسه را مشاهده می‌کنید.\n",
    "<br>\n",
    "حال سعی می‌کنیم که با استفاده از الگوریتم K-Means Clustering یک مدل ساده برای Image Segmentation ایجاد کنیم.\n",
    "ایده کلی برای اینکار به این صورت است که هرکدام از <code>pixel</code> های تصویر را به عنوان یک نقطه در فضای سه بعدی در نظر می‌گیریم(هر بعد معادل یکی از لایه های RGB است.) و سپس سعی می‌کنیم تا <code>pixel</code> های تصاویر را با استفاده از الگوریتم K-Means خوشه بندی کنیم.\n",
    "\n",
    "<p dir=rtl style=\"direction: rtl;text-align: justify;line-height:200%;font-family:vazir;font-size:medium\">\n",
    "<font face=\"vazir\" size=3>\n",
    "نمونه‌ای از segmentation به وسیله Kmeans در تصویر زیر آمده است.\n",
    "<br>\n",
    "\n",
    "<p align=\"center\">\n",
    "  <img src=\"ball.jpg\" width=500>\n",
    "  <img src=\"segmented_ball.png\" width=500>\n",
    "</p>"
   ]
  },
  {
   "cell_type": "markdown",
   "id": "e55fe82f",
   "metadata": {},
   "source": [
    "<h2 dir=rtl align=right style=\"line-height:200%;font-family:vazir;color:#0099cc\">\n",
    "<font face=\"vazir\" color=\"#0099cc\">\n",
    "قسمت ۶: اعمال Segmentation بر روی تصویر \n",
    "</font>\n",
    "</h2>\n",
    "\n",
    "<p dir=rtl style=\"direction: rtl;text-align: justify;line-height:200%;font-family:vazir;font-size:medium\">\n",
    "<font face=\"vazir\" size=3>\n",
    "ابتدا تصویر داده شده را با استفاده از کتابخانه <code>opencv</code> می‌خوانیم. می‌توانید در این بخش از تصویر دلخواه خود استفاده کنید.\n",
    "</font>\n",
    "</p>"
   ]
  },
  {
   "cell_type": "code",
   "id": "2a137238",
   "metadata": {
    "ExecuteTime": {
     "end_time": "2024-11-04T13:31:04.941361Z",
     "start_time": "2024-11-04T13:31:04.843795Z"
    }
   },
   "source": [
    "import matplotlib.pyplot as plt\n",
    "import cv2\n",
    "\n",
    "def read_image(file_name):\n",
    "# Reading in the image\n",
    "    image = cv2.imread(file_name)\n",
    "\n",
    "    # Changing the color of image from BGR to RGB\n",
    "    image = cv2.cvtColor(image, cv2.COLOR_BGR2RGB)\n",
    "\n",
    "    return image\n",
    "\n",
    "plt.axis('off')\n",
    "plt.imshow(read_image('road.jpg'))\n"
   ],
   "outputs": [
    {
     "ename": "error",
     "evalue": "OpenCV(4.10.0) D:\\a\\opencv-python\\opencv-python\\opencv\\modules\\imgproc\\src\\color.cpp:196: error: (-215:Assertion failed) !_src.empty() in function 'cv::cvtColor'\n",
     "output_type": "error",
     "traceback": [
      "\u001B[1;31m---------------------------------------------------------------------------\u001B[0m",
      "\u001B[1;31merror\u001B[0m                                     Traceback (most recent call last)",
      "Cell \u001B[1;32mIn[32], line 14\u001B[0m\n\u001B[0;32m     11\u001B[0m     \u001B[38;5;28;01mreturn\u001B[39;00m image\n\u001B[0;32m     13\u001B[0m plt\u001B[38;5;241m.\u001B[39maxis(\u001B[38;5;124m'\u001B[39m\u001B[38;5;124moff\u001B[39m\u001B[38;5;124m'\u001B[39m)\n\u001B[1;32m---> 14\u001B[0m plt\u001B[38;5;241m.\u001B[39mimshow(\u001B[43mread_image\u001B[49m\u001B[43m(\u001B[49m\u001B[38;5;124;43m'\u001B[39;49m\u001B[38;5;124;43mroad.jpg\u001B[39;49m\u001B[38;5;124;43m'\u001B[39;49m\u001B[43m)\u001B[49m)\n",
      "Cell \u001B[1;32mIn[32], line 9\u001B[0m, in \u001B[0;36mread_image\u001B[1;34m(file_name)\u001B[0m\n\u001B[0;32m      6\u001B[0m image \u001B[38;5;241m=\u001B[39m cv2\u001B[38;5;241m.\u001B[39mimread(file_name)\n\u001B[0;32m      8\u001B[0m \u001B[38;5;66;03m# Changing the color of image from BGR to RGB\u001B[39;00m\n\u001B[1;32m----> 9\u001B[0m image \u001B[38;5;241m=\u001B[39m \u001B[43mcv2\u001B[49m\u001B[38;5;241;43m.\u001B[39;49m\u001B[43mcvtColor\u001B[49m\u001B[43m(\u001B[49m\u001B[43mimage\u001B[49m\u001B[43m,\u001B[49m\u001B[43m \u001B[49m\u001B[43mcv2\u001B[49m\u001B[38;5;241;43m.\u001B[39;49m\u001B[43mCOLOR_BGR2RGB\u001B[49m\u001B[43m)\u001B[49m\n\u001B[0;32m     11\u001B[0m \u001B[38;5;28;01mreturn\u001B[39;00m image\n",
      "\u001B[1;31merror\u001B[0m: OpenCV(4.10.0) D:\\a\\opencv-python\\opencv-python\\opencv\\modules\\imgproc\\src\\color.cpp:196: error: (-215:Assertion failed) !_src.empty() in function 'cv::cvtColor'\n"
     ]
    },
    {
     "data": {
      "text/plain": [
       "<Figure size 640x480 with 1 Axes>"
      ],
      "image/png": "[encoded data removed]"
     },
     "metadata": {},
     "output_type": "display_data"
    }
   ],
   "execution_count": 32
  },
  {
   "cell_type": "markdown",
   "id": "6142f669",
   "metadata": {},
   "source": [
    "\n",
    "<p dir=rtl style=\"direction: rtl;text-align: justify;line-height:200%;font-family:vazir;font-size:medium\">\n",
    "<font face=\"vazir\" size=3>\n",
    "حال چون تصویر یک ماتریس سه بعدی هست (3 ماتریس دو بعدی که هر ماتریس بیانگر یکی از channel ها R,G,B هستند.) نیاز داریم تا تصویر را به یک ماتریس دو بعدی تبدیل کنیم که هر سطر بیانگر یک پیکسل هست و هر ستون بیانگر یکی از سه channel.\n",
    "همچنین از آنجایی که مقادیر هر پیکسل عدد صحیح هست نیاز است تا نوع آن ها را نیز به <code>float</code> تغییر دهید.\n",
    "</font>\n",
    "</p>"
   ]
  },
  {
   "cell_type": "code",
   "id": "55a759f9",
   "metadata": {
    "ExecuteTime": {
     "end_time": "2024-10-16T10:47:10.887087Z",
     "start_time": "2024-10-16T10:47:10.881166Z"
    }
   },
   "source": [
    "def convert_to_2D(image):\n",
    "    # converting the image dimensions from (m,n,3) to (m*n,3)\n",
    "    #TO-DO\n",
    "    m, n, _ = image.shape  # \n",
    "    reshaped_image = image.reshape(m * n, 3)     \n",
    "    reshaped_image = reshaped_image.astype(float)  \n",
    "    return reshaped_image"
   ],
   "outputs": [],
   "execution_count": 109
  },
  {
   "cell_type": "markdown",
   "id": "98837232",
   "metadata": {},
   "source": [
    "\n",
    "<p dir=rtl style=\"direction: rtl;text-align: justify;line-height:200%;font-family:vazir;font-size:medium\">\n",
    "<font face=\"vazir\" size=3>\n",
    "در اینجا با استفاده از تابع kmeans خوشه بندی را انجام می‌دهیم و سپس بجای هرکدام از مقادیر پیکسل‌ها، مقدار centroid مربوط به خوشه‌اش را قرار می‌دهیم. پس از آن نتیجه حاصل را دوباره به یک ماتریس سه بعدی تبدیل می‌کنیم و در خروجی آن را نشان می‌دهیم.\n",
    "(توجه کنید که مقادیر پیکسل ها را باید دوباره عدد صحیح کنید.)\n",
    "</font>\n",
    "</p>\n",
    "<p dir=rtl style=\"direction: rtl;text-align: justify;line-height:200%;font-family:vazir;font-size:medium\">\n",
    "<font face=\"vazir\" size=3>\n",
    "مقدار k را برابر 3 بگذارید. \n",
    "</font>\n",
    "</p>"
   ]
  },
  {
   "cell_type": "code",
   "id": "f31895d1",
   "metadata": {
    "ExecuteTime": {
     "end_time": "2024-11-04T13:30:36.151146Z",
     "start_time": "2024-11-04T13:30:36.141161Z"
    }
   },
   "source": [
    "def segmentation(image , k = 3):\n",
    "    reshaped_image = convert_to_2D(image)\n",
    "    m, n, _ = image.shape\n",
    "    \"\"\"\n",
    "    Steps:\n",
    "        1.Perforing K-Means\n",
    "        2.Assigning the value of cluster centroid to each pixel and converting it to integer\n",
    "        3.Reshaping the segmented image to the original 3D tensor.\n",
    "    \"\"\"\n",
    "    centroids , labels = kmeans(reshaped_image , k)\n",
    "    output=np.array([centroids[i] for i in labels]).astype(int).reshape(m,n,_)\n",
    "    return output\n"
   ],
   "outputs": [],
   "execution_count": 29
  },
  {
   "cell_type": "code",
   "id": "12007a87",
   "metadata": {
    "ExecuteTime": {
     "end_time": "2024-11-04T13:30:38.679389Z",
     "start_time": "2024-11-04T13:30:38.655982Z"
    }
   },
   "source": [
    "output = segmentation(read_image('road.jpg'))\n",
    "plt.axis('off')\n",
    "plt.imshow(output)"
   ],
   "outputs": [
    {
     "ename": "NameError",
     "evalue": "name 'read_image' is not defined",
     "output_type": "error",
     "traceback": [
      "\u001B[1;31m---------------------------------------------------------------------------\u001B[0m",
      "\u001B[1;31mNameError\u001B[0m                                 Traceback (most recent call last)",
      "Cell \u001B[1;32mIn[30], line 1\u001B[0m\n\u001B[1;32m----> 1\u001B[0m output \u001B[38;5;241m=\u001B[39m segmentation(\u001B[43mread_image\u001B[49m(\u001B[38;5;124m'\u001B[39m\u001B[38;5;124mroad.jpg\u001B[39m\u001B[38;5;124m'\u001B[39m))\n\u001B[0;32m      2\u001B[0m plt\u001B[38;5;241m.\u001B[39maxis(\u001B[38;5;124m'\u001B[39m\u001B[38;5;124moff\u001B[39m\u001B[38;5;124m'\u001B[39m)\n\u001B[0;32m      3\u001B[0m plt\u001B[38;5;241m.\u001B[39mimshow(output)\n",
      "\u001B[1;31mNameError\u001B[0m: name 'read_image' is not defined"
     ]
    }
   ],
   "execution_count": 30
  },
  {
   "cell_type": "markdown",
   "id": "65c9a86a",
   "metadata": {},
   "source": [
    "\n",
    "<p dir=rtl style=\"direction: rtl;text-align: justify;line-height:200%;font-family:vazir;font-size:medium\">\n",
    "<font face=\"vazir\" size=3>\n",
    "با اجرای سلول زیر می‌توانید به مقایسه‌ی خروجی به ازای حالت های مختلف k بپردازید. در این بخش نیازی به تغییر کد ندارید.\n",
    "</font>\n",
    "</p>"
   ]
  },
  {
   "cell_type": "code",
   "id": "75593f01",
   "metadata": {
    "ExecuteTime": {
     "end_time": "2024-11-04T13:28:03.952788Z",
     "start_time": "2024-11-04T13:28:03.026089Z"
    }
   },
   "source": [
    "fig, axs = plt.subplots(2, 2, figsize=(8, 8))\n",
    "for i, ax in enumerate(axs.flat):\n",
    "    ax.imshow(segmentation(read_image('road.jpg'),k=i+2))\n",
    "    ax.set_title(\"K=\"+str(i+2))\n",
    "    ax.axis('off') \n",
    "plt.tight_layout()\n",
    "plt.show(cmap='bgr')"
   ],
   "outputs": [
    {
     "ename": "NameError",
     "evalue": "name 'segmentation' is not defined",
     "output_type": "error",
     "traceback": [
      "\u001B[1;31m---------------------------------------------------------------------------\u001B[0m",
      "\u001B[1;31mNameError\u001B[0m                                 Traceback (most recent call last)",
      "Cell \u001B[1;32mIn[27], line 3\u001B[0m\n\u001B[0;32m      1\u001B[0m fig, axs \u001B[38;5;241m=\u001B[39m plt\u001B[38;5;241m.\u001B[39msubplots(\u001B[38;5;241m2\u001B[39m, \u001B[38;5;241m2\u001B[39m, figsize\u001B[38;5;241m=\u001B[39m(\u001B[38;5;241m8\u001B[39m, \u001B[38;5;241m8\u001B[39m))\n\u001B[0;32m      2\u001B[0m \u001B[38;5;28;01mfor\u001B[39;00m i, ax \u001B[38;5;129;01min\u001B[39;00m \u001B[38;5;28menumerate\u001B[39m(axs\u001B[38;5;241m.\u001B[39mflat):\n\u001B[1;32m----> 3\u001B[0m     ax\u001B[38;5;241m.\u001B[39mimshow(\u001B[43msegmentation\u001B[49m(read_image(\u001B[38;5;124m'\u001B[39m\u001B[38;5;124mroad.jpg\u001B[39m\u001B[38;5;124m'\u001B[39m),k\u001B[38;5;241m=\u001B[39mi\u001B[38;5;241m+\u001B[39m\u001B[38;5;241m2\u001B[39m))\n\u001B[0;32m      4\u001B[0m     ax\u001B[38;5;241m.\u001B[39mset_title(\u001B[38;5;124m\"\u001B[39m\u001B[38;5;124mK=\u001B[39m\u001B[38;5;124m\"\u001B[39m\u001B[38;5;241m+\u001B[39m\u001B[38;5;28mstr\u001B[39m(i\u001B[38;5;241m+\u001B[39m\u001B[38;5;241m2\u001B[39m))\n\u001B[0;32m      5\u001B[0m     ax\u001B[38;5;241m.\u001B[39maxis(\u001B[38;5;124m'\u001B[39m\u001B[38;5;124moff\u001B[39m\u001B[38;5;124m'\u001B[39m) \n",
      "\u001B[1;31mNameError\u001B[0m: name 'segmentation' is not defined"
     ]
    },
    {
     "data": {
      "text/plain": [
       "<Figure size 800x800 with 4 Axes>"
      ],
      "image/png": "[encoded data removed]"
     },
     "metadata": {},
     "output_type": "display_data"
    }
   ],
   "execution_count": 27
  },
  {
   "metadata": {},
   "cell_type": "code",
   "outputs": [],
   "execution_count": null,
   "source": "",
   "id": "3e1d04280ddea0d8"
  }
 ],
 "metadata": {
  "kernelspec": {
   "display_name": "Python 3 (ipykernel)",
   "language": "python",
   "name": "python3"
  },
  "language_info": {
   "codemirror_mode": {
    "name": "ipython",
    "version": 3
   },
   "file_extension": ".py",
   "mimetype": "text/x-python",
   "name": "python",
   "nbconvert_exporter": "python",
   "pygments_lexer": "ipython3",
   "version": "3.11.5"
  },
  "vscode": {
   "interpreter": {
    "hash": "6a29b8f2e1e8b11f80c3820468461bcdbea6564508a235f61a46eeb59d48b308"
   }
  }
 },
 "nbformat": 4,
 "nbformat_minor": 5
}
